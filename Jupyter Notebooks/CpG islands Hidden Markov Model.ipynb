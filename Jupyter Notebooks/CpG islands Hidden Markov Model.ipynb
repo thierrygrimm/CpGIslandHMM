{
 "cells": [
  {
   "cell_type": "markdown",
   "metadata": {},
   "source": [
    "#  Modelling CpG islands with Hidden Markov Models"
   ]
  },
  {
   "cell_type": "markdown",
   "metadata": {
    "toc": true
   },
   "source": [
    "<h1>Table of Contents<span class=\"tocSkip\"></span></h1>\n",
    "<div class=\"toc\"><ul class=\"toc-item\"><li><span><a href=\"#Introduction\" data-toc-modified-id=\"Introduction-1\"><span class=\"toc-item-num\">1&nbsp;&nbsp;</span>Introduction</a></span><ul class=\"toc-item\"><li><span><a href=\"#General\" data-toc-modified-id=\"General-1.1\"><span class=\"toc-item-num\">1.1&nbsp;&nbsp;</span>General</a></span></li><li><span><a href=\"#Viterbi,-Forward/Backward-Algorithm\" data-toc-modified-id=\"Viterbi,-Forward/Backward-Algorithm-1.2\"><span class=\"toc-item-num\">1.2&nbsp;&nbsp;</span>Viterbi, Forward/Backward Algorithm</a></span></li></ul></li><li><span><a href=\"#Imports\" data-toc-modified-id=\"Imports-2\"><span class=\"toc-item-num\">2&nbsp;&nbsp;</span>Imports</a></span></li><li><span><a href=\"#Matrices\" data-toc-modified-id=\"Matrices-3\"><span class=\"toc-item-num\">3&nbsp;&nbsp;</span>Matrices</a></span></li><li><span><a href=\"#Forward-Algorithm\" data-toc-modified-id=\"Forward-Algorithm-4\"><span class=\"toc-item-num\">4&nbsp;&nbsp;</span>Forward Algorithm</a></span></li><li><span><a href=\"#Backward-Algorithm\" data-toc-modified-id=\"Backward-Algorithm-5\"><span class=\"toc-item-num\">5&nbsp;&nbsp;</span>Backward Algorithm</a></span></li><li><span><a href=\"#Test-Sequence\" data-toc-modified-id=\"Test-Sequence-6\"><span class=\"toc-item-num\">6&nbsp;&nbsp;</span>Test Sequence</a></span></li><li><span><a href=\"#Test-Sequence-Modification\" data-toc-modified-id=\"Test-Sequence-Modification-7\"><span class=\"toc-item-num\">7&nbsp;&nbsp;</span>Test Sequence Modification</a></span></li></ul></div>"
   ]
  },
  {
   "cell_type": "markdown",
   "metadata": {},
   "source": [
    "##  Introduction"
   ]
  },
  {
   "cell_type": "markdown",
   "metadata": {},
   "source": [
    "### General"
   ]
  },
  {
   "cell_type": "markdown",
   "metadata": {},
   "source": [
    "We model CpG islands by creating a Hidden Markov Model of the 1st order.\n",
    "The model assumes the presence of two “hidden” states: **CpG island** and **nonCpG island**."
   ]
  },
  {
   "cell_type": "markdown",
   "metadata": {},
   "source": [
    "We estimate parameters of the model by calculating **transition, emission and initiation** probabilities. For this use sequences from the file “Sequences.txt” with the known location of CpG islands described in the file “Keys.txt”. \n",
    "\n",
    "Each line of the file “Sequences.txt” corresponds to a single sequence of bases “A”, “T”, “G” and “C”. The file contains 500 sequences in total. \n",
    "\n",
    "The file “Keys.txt” specifies states of sequence bases: “+” – the base belongs to a CpG island, “-” – the base does not belong to a CpG island. "
   ]
  },
  {
   "cell_type": "markdown",
   "metadata": {},
   "source": [
    "Note that in this exercise we do not require that the emission of the base at the\n",
    "position i depends on the base at the position i+1.\n",
    "\n",
    "\n",
    "look in most probable state for an observation"
   ]
  },
  {
   "cell_type": "markdown",
   "metadata": {},
   "source": [
    "###  Viterbi, Forward/Backward Algorithm"
   ]
  },
  {
   "cell_type": "markdown",
   "metadata": {},
   "source": [
    "1. **Transition probability:** go from state k to state l: 𝑎𝑎𝑘𝑘,𝑙𝑙 = 𝑃𝑃(𝜋𝜋𝑖𝑖 = 𝑙𝑙 | 𝜋𝜋𝑖𝑖−1 = 𝑘𝑘) \n",
    "\n",
    "\n",
    "2. **Emission probabilities:** emit a base 𝛽𝛽 at state l: 𝑒𝑒𝑙𝑙(𝛽𝛽) = 𝑃𝑃(𝑥𝑥𝑖𝑖 = 𝛽𝛽 | 𝜋𝜋𝑖𝑖 = 𝑙𝑙) \n",
    "\n",
    "\n",
    "3. **Initiation probability:** genomic sequence starts at certain state (CpG or non-CpG)"
   ]
  },
  {
   "cell_type": "markdown",
   "metadata": {},
   "source": [
    "## Imports"
   ]
  },
  {
   "cell_type": "code",
   "execution_count": 3,
   "metadata": {},
   "outputs": [],
   "source": [
    "from matplotlib.patches import Rectangle\n",
    "import re\n",
    "import random\n",
    "import pandas as pd\n",
    "import numpy as np\n",
    "import matplotlib.pyplot as plt\n",
    "%matplotlib inline"
   ]
  },
  {
   "cell_type": "code",
   "execution_count": 4,
   "metadata": {},
   "outputs": [],
   "source": [
    "transitions = np.zeros((2, 2))  # +- / +-\n",
    "emissions = np.zeros((4, 2))  # +- / ACTG\n",
    "initiations = np.zeros((1, 2))  # +- / Probability"
   ]
  },
  {
   "cell_type": "markdown",
   "metadata": {},
   "source": [
    "## Matrices"
   ]
  },
  {
   "cell_type": "code",
   "execution_count": 7,
   "metadata": {},
   "outputs": [
    {
     "name": "stdout",
     "output_type": "stream",
     "text": [
      "Transitions: -+ / -+\n",
      "[[0.9871429  0.0128571 ]\n",
      " [0.02558467 0.97441533]]\n",
      "\n",
      "\n",
      "Emissions: ATGC/-+\n",
      "[[0.25910751 0.14164113]\n",
      " [0.26115618 0.14501192]\n",
      " [0.24023989 0.35263875]\n",
      " [0.23949642 0.36070821]]\n",
      "\n",
      "\n",
      "Initiations: -+/Probabilites\n",
      "[0.442, 0.558]\n"
     ]
    }
   ],
   "source": [
    "sequences = pd.read_csv('Sequences.txt', header=None)[0]\n",
    "keys = pd.read_csv('keys.txt', header=None)[0]\n",
    "keys_ohe = [x.replace('+', \"1\").replace('-', \"0\") for x in keys]  # binary\n",
    "totals = [60278, 29119]\n",
    "\n",
    "# Transition Array\n",
    "for i in range(2):\n",
    "    for x in range(2):\n",
    "        query = str(i)+str(x)\n",
    "        transitions[i][x] = np.sum(\n",
    "            [len(re.findall('(?=%s)' % query, keys_ohe[n])) for n in range(len(keys))])/totals[i]\n",
    "\n",
    "print('Transitions: -+ / -+')\n",
    "print(transitions)\n",
    "print('\\n')\n",
    "non_cpgs = [[m.start() for m in re.finditer('0', n)] for n in keys_ohe]\n",
    "cpgs = [[m.start() for m in re.finditer('1', n)] for n in keys_ohe]\n",
    "\n",
    "cp_nuc = [[sequences[r][i] for i in cpgs[r]] for r in range(len(sequences))]\n",
    "non_cp_nuc = [[sequences[r][i] for i in non_cpgs[r]]\n",
    "              for r in range(len(sequences))]\n",
    "states = [non_cp_nuc, cp_nuc]\n",
    "nucs = ['A', 'T', 'G', 'C']\n",
    "totals2 = [np.sum([len(x) for x in non_cp_nuc]),\n",
    "           np.sum([len(x) for x in cp_nuc])]\n",
    "\n",
    "# Emisssion Array\n",
    "for nuc in range(len(nucs)):\n",
    "    for state in range(len(states)):\n",
    "        emissions[nuc][state] = np.sum(\n",
    "            [n.count(nucs[nuc]) for n in states[state]])/totals2[state]\n",
    "\n",
    "print('Emissions: ATGC/-+')\n",
    "print(emissions)\n",
    "print('\\n')\n",
    "\n",
    "# Initiation Array (occurence in sequence)\n",
    "pos = np.sum([int(n[0]) for n in keys_ohe])\n",
    "initiations = [pos/500, 1-pos/500]\n",
    "\n",
    "print('Initiations: -+/Probabilites')\n",
    "print(initiations)"
   ]
  },
  {
   "cell_type": "markdown",
   "metadata": {},
   "source": [
    "Using Viterbi algorithm we find the most likely assignment of CpG islands in the\n",
    "“Test_sequence”."
   ]
  },
  {
   "cell_type": "markdown",
   "metadata": {},
   "source": [
    "## Forward Algorithm"
   ]
  },
  {
   "cell_type": "code",
   "execution_count": 59,
   "metadata": {},
   "outputs": [],
   "source": [
    "def forward(sequence, initmat, a, e):\n",
    "    states = [0, 1]\n",
    "    seqlen = len(sequence)\n",
    "    f = [[0]*seqlen, [0]*seqlen]\n",
    "    ptr = [[0]*seqlen]\n",
    "    nucleotide = {\"A\": 0, \"T\": 1, \"G\": 2, \"C\": 3}\n",
    "    for k in states:\n",
    "        f[k][0] = initmat[k]*e[k][nucleotide[sequence[0]]]\n",
    "    for i in range(1, seqlen):\n",
    "        for k in states:\n",
    "            # Sum of both last previous probs*transitions for each state\n",
    "            f[k][i] = f[states[0]][i-1]*a[states[0]][k]\n",
    "            # Remaining state\n",
    "            for l in states[1:]:\n",
    "                f[k][i] += f[l][i-1]*a[l][k]\n",
    "            f[k][i] = f[k][i]*e[k][nucleotide[sequence[i]]]\n",
    "    return f"
   ]
  },
  {
   "cell_type": "markdown",
   "metadata": {},
   "source": [
    "## Backward Algorithm"
   ]
  },
  {
   "cell_type": "code",
   "execution_count": 61,
   "metadata": {},
   "outputs": [],
   "source": [
    "def backward(sequence, initmat, a, e):\n",
    "\n",
    "    states = [0, 1]\n",
    "    seqlen = len(sequence)\n",
    "    b = [[0]*seqlen, [0]*seqlen]\n",
    "    nucleotide = {\"A\": 0, \"T\": 1, \"C\": 2, \"G\": 3}\n",
    "\n",
    "    for k in states:\n",
    "        b[k][-1] = 1\n",
    "\n",
    "    for i in np.arange(seqlen-2, -1, -1):\n",
    "        # -1 for index shift, -1 for second last column\n",
    "\n",
    "        for k in states:\n",
    "            b[k][i] = b[states[0]][i+1] * a[k][states[0]] * \\\n",
    "                e[states[0]][nucleotide[sequence[i+1]]]\n",
    "\n",
    "            # Remaining state\n",
    "            for l in states[1:]:\n",
    "                b[k][i] += b[l][i+1]*a[k][l]*e[l][nucleotide[sequence[i+1]]]\n",
    "            b[k][i] = b[k][i]\n",
    "\n",
    "    start = 0\n",
    "    for k in states:\n",
    "        start += b[k][0]*e[k][nucleotide[sequence[0]]]*initmat[k]\n",
    "\n",
    "    return b"
   ]
  },
  {
   "cell_type": "markdown",
   "metadata": {},
   "source": [
    "## Test Sequence"
   ]
  },
  {
   "cell_type": "code",
   "execution_count": 62,
   "metadata": {},
   "outputs": [],
   "source": [
    "test_sequence=\"AACAATAATTTTGTTCTCCAATATAATCATCGACGCGTCGCGACGCGCGGGGGCGCCGGGTGACCCTATACTTCACTTGAATGCCATCCG\""
   ]
  },
  {
   "cell_type": "code",
   "execution_count": 63,
   "metadata": {},
   "outputs": [],
   "source": [
    "states = [0,1]\n",
    "start_p = [0.558, 0.442]\n",
    "trans_p = [[0.9871429, 0.0128571], [0.02558467, 0.97441533]]\n",
    "emit_p = [[0.25910751, 0.26115618, 0.24023989, 0.23949642],\n",
    "          [0.14164113, 0.14501192, 0.35263875, 0.36070821]]"
   ]
  },
  {
   "cell_type": "markdown",
   "metadata": {},
   "source": [
    "For every base of the “Test_sequence” calculate the probability to be in a CpG island. Use Forward and Backward algorithms. Calculate the probability of the “Test_sequence” using Forward and Backward algorithms. Obtained values should be the same. Plot the result: x-axis defines the position of the base, the y-axis defines the probability of the base to be in a CpG island."
   ]
  },
  {
   "cell_type": "code",
   "execution_count": 64,
   "metadata": {},
   "outputs": [
    {
     "name": "stdout",
     "output_type": "stream",
     "text": [
      "Most likely states: --------------------------------++++++++++++++++++++++++++++++++--------------------------\n"
     ]
    }
   ],
   "source": [
    "f1 = forward(test_sequence, start_p, trans_p, emit_p)\n",
    "b1 = backward(test_sequence, start_p, trans_p, emit_p)\n",
    "probs = np.multiply(f1, b1) / np.sum(f1, axis=0)[-1]\n",
    "\n",
    "island = [\"-\"]*len(test_sequence)\n",
    "state=np.argmax(probs1,axis=0)\n",
    "for i in range(len(test_sequence)):\n",
    "        if state[i]==1: \n",
    "            island[i]=\"+\"    \n",
    "print('Most likely states: ' + \"\".join(island))\n",
    "\n"
   ]
  },
  {
   "cell_type": "code",
   "execution_count": 65,
   "metadata": {},
   "outputs": [
    {
     "data": {
      "image/png": "[encoded data removed]",
      "text/plain": [
       "<Figure size 1152x216 with 1 Axes>"
      ]
     },
     "metadata": {
      "needs_background": "light"
     },
     "output_type": "display_data"
    }
   ],
   "source": [
    "plt.figure(figsize=(16, 3))\n",
    "plt.plot(probs[1],  label='Probability')\n",
    "plt.title('Probability Estimates for CpG Island')\n",
    "plt.xlabel('Base Position')\n",
    "plt.ylabel('Probability')\n",
    "plt.legend(loc='best')\n",
    "plt.show()"
   ]
  },
  {
   "cell_type": "markdown",
   "metadata": {},
   "source": [
    "## Test Sequence Modification"
   ]
  },
  {
   "cell_type": "markdown",
   "metadata": {},
   "source": [
    "Change a single letter of the “Test_sequence” from G to T (red):"
   ]
  },
  {
   "cell_type": "code",
   "execution_count": 56,
   "metadata": {},
   "outputs": [],
   "source": [
    "test_sequence2=\"AACAATAATTTTGTTCTCCAATATAATCATCGACGCGTCGCGACTCGCGGGGGCGCCGGGTGACCCTATACTTCACTTGAATGCCATCCG\""
   ]
  },
  {
   "cell_type": "code",
   "execution_count": 57,
   "metadata": {},
   "outputs": [
    {
     "name": "stdout",
     "output_type": "stream",
     "text": [
      "Most likely states: ---------------------------------+++++++++++++++++++++++++++++++--------------------------\n"
     ]
    }
   ],
   "source": [
    "f2 = forward(test_sequence2, start_p, trans_p, emit_p)\n",
    "b2 = backward(test_sequence2, start_p, trans_p, emit_p)\n",
    "probs2 = np.multiply(f2, b2) / np.sum(f2, axis=0)[-1]\n",
    "\n",
    "island2 = [\"-\"]*len(test_sequence2)\n",
    "state2=np.argmax(probs2,axis=0)\n",
    "for i in range(len(test_sequence2)):\n",
    "        if state2[i]==1: \n",
    "            island2[i]=\"+\"    \n",
    "print('Most likely states: ' + \"\".join(island2))"
   ]
  },
  {
   "cell_type": "code",
   "execution_count": 58,
   "metadata": {},
   "outputs": [
    {
     "data": {
      "image/png": "[encoded data removed]",
      "text/plain": [
       "<Figure size 1152x216 with 1 Axes>"
      ]
     },
     "metadata": {
      "needs_background": "light"
     },
     "output_type": "display_data"
    }
   ],
   "source": [
    "plt.figure(figsize=(16, 3))\n",
    "plt.plot(probs[1],  label='Original')\n",
    "plt.plot(probs2[1],  label='Modified')\n",
    "plt.title('Modified Probability Estimates of CpG Island')\n",
    "plt.xlabel('Base Position')\n",
    "plt.ylabel('Probability')\n",
    "plt.legend(loc='best')\n",
    "plt.show()"
   ]
  },
  {
   "cell_type": "markdown",
   "metadata": {},
   "source": [
    "Run Viterbi, Forward and Backward algorithms for the modified “Test_sequence”. For every base of the “Test_sequence” calculate the probability to be in a CpG island. Discuss the impact of the modification of one letter of the “Test_sequence” on the performance of Viterbi algorithm and on the probability of bases to belong to a CpG island."
   ]
  },
  {
   "cell_type": "markdown",
   "metadata": {},
   "source": [
    "**Answer:**\n",
    "\n",
    "Changing a single nucleotide affects neighbors because we use the forward/backward algorithm."
   ]
  }
 ],
 "metadata": {
  "kernelspec": {
   "display_name": "Python 3",
   "language": "python",
   "name": "python3"
  },
  "language_info": {
   "codemirror_mode": {
    "name": "ipython",
    "version": 3
   },
   "file_extension": ".py",
   "mimetype": "text/x-python",
   "name": "python",
   "nbconvert_exporter": "python",
   "pygments_lexer": "ipython3",
   "version": "3.7.1"
  },
  "toc": {
   "base_numbering": 1,
   "nav_menu": {},
   "number_sections": true,
   "sideBar": true,
   "skip_h1_title": true,
   "title_cell": "Table of Contents",
   "title_sidebar": "Contents",
   "toc_cell": true,
   "toc_position": {
    "height": "calc(100% - 180px)",
    "left": "10px",
    "top": "150px",
    "width": "217.59375px"
   },
   "toc_section_display": true,
   "toc_window_display": false
  }
 },
 "nbformat": 4,
 "nbformat_minor": 2
}
